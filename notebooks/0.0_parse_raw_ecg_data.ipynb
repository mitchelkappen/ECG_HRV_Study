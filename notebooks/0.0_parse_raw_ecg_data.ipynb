{
 "cells": [
  {
   "cell_type": "markdown",
   "id": "983e4abb-75db-4a04-9114-9fd67e7ba903",
   "metadata": {},
   "source": [
    "# All ECG -> HRV analysis"
   ]
  },
  {
   "cell_type": "markdown",
   "id": "6dc35a05-764a-4ec2-9201-417068239537",
   "metadata": {},
   "source": [
    "In this script, we will loop over each study's data and analyze the relevant parts of the ECG file. \n",
    "\n",
    "Some studies have different filetypes, and most have different triggers. \n",
    "\n",
    "We want to add everything together in one dataframe. "
   ]
  },
  {
   "cell_type": "markdown",
   "id": "d0ec6215-c240-4cb4-a0c7-ab2054213c05",
   "metadata": {},
   "source": [
    "## Set environment"
   ]
  },
  {
   "cell_type": "code",
   "execution_count": 2,
   "id": "577c63f2-973b-41a1-b8f9-35f64e3b77d9",
   "metadata": {},
   "outputs": [],
   "source": [
    "from pathlib import Path\n",
    "from tqdm.auto import tqdm\n",
    "import pandas as pd\n",
    "from IPython.display import display\n",
    "import numpy as np\n",
    "import os"
   ]
  },
  {
   "cell_type": "code",
   "execution_count": 3,
   "id": "0012ddb9-1a0a-4747-b192-c1ec0f27dbac",
   "metadata": {},
   "outputs": [],
   "source": [
    "# configure user\n",
    "user = \"mitchel\"\n",
    "extracted_feats = True\n",
    "\n",
    "if user.lower() == \"mitchel\":\n",
    "    BASE_PATH = Path(\"Z:/shares/ghep_lab/2022_Zefeng_ECG_HRV_Compound_Study/\")\n",
    "elif user.lower() == \"zefeng\":\n",
    "    BASE_PATH = Path(\"Z:/shares/ghep_lab/2022_Zefeng_ECG_HRV_Compound_Study/\")\n",
    "\n",
    "DATA_PATH = BASE_PATH.joinpath(\"Data/\")"
   ]
  },
  {
   "cell_type": "markdown",
   "id": "d3c4f11c-6ea7-4a61-aa5c-394f1d78aa74",
   "metadata": {},
   "source": [
    "## Try-out study 1"
   ]
  },
  {
   "cell_type": "code",
   "execution_count": 19,
   "id": "683f7def-f5a6-4854-af24-d1096b97f66c",
   "metadata": {},
   "outputs": [
    {
     "data": {
      "text/plain": [
       "['slow breathing \\n',\n",
       " '\\n',\n",
       " 'ECG signal in channel-2\\n',\n",
       " 'Trigger in channel-4   Value:5--start, but delay 660s, 5--End, delay 970s\\n',\n",
       " 'So during the 660 to 970s is the baseline period\\n',\n",
       " '\\n',\n",
       " '\\n',\n",
       " 'Delay means that the trigger appears 660s later as the start of the epoch. This is because the trigger does not correspond to the start time of the baseline in this study, but to Habituation for 10 minutes.\\n',\n",
       " '\\n',\n",
       " 'End delay is because the start trigger is the same as the end trigger, so the start trigger counts. The Delay 970s includes the Delay of 660s for the start phase and 300s for the baseline phase.']"
      ]
     },
     "execution_count": 19,
     "metadata": {},
     "output_type": "execute_result"
    }
   ],
   "source": [
    "# First, we check what subfolders exist, and then enter subfolder one\n",
    "TEMP_DATA_PATH = DATA_PATH.joinpath(\"Study_1/Raw/Physiological (ECG, EDA, RSP)/\")\n",
    "# os.listdir(TEMP_DATA_PATH)\n",
    "with open(TEMP_DATA_PATH.joinpath('trigger.txt')) as f:\n",
    "    lines = f.readlines()\n",
    "\n",
    "lines"
   ]
  },
  {
   "cell_type": "code",
   "execution_count": null,
   "id": "530ac2e9-8e2d-427a-8788-466130011346",
   "metadata": {},
   "outputs": [],
   "source": [
    "for pqt in tqdm(list(TEMP_DATA_PATH.rglob(\"*ppt_*.acq\"))):\n",
    "    print(pqt)"
   ]
  },
  {
   "cell_type": "code",
   "execution_count": 8,
   "id": "d1bcfa90-818e-443d-9f93-b113f3eb3664",
   "metadata": {},
   "outputs": [
    {
     "data": {
      "text/plain": [
       "WindowsPath('Z:/shares/ghep_lab/2022_Zefeng_ECG_HRV_Compound_Study/Data')"
      ]
     },
     "execution_count": 8,
     "metadata": {},
     "output_type": "execute_result"
    }
   ],
   "source": [
    "DATA_PATH"
   ]
  }
 ],
 "metadata": {
  "kernelspec": {
   "display_name": "Python 3 (ipykernel)",
   "language": "python",
   "name": "python3"
  },
  "language_info": {
   "codemirror_mode": {
    "name": "ipython",
    "version": 3
   },
   "file_extension": ".py",
   "mimetype": "text/x-python",
   "name": "python",
   "nbconvert_exporter": "python",
   "pygments_lexer": "ipython3",
   "version": "3.9.6"
  }
 },
 "nbformat": 4,
 "nbformat_minor": 5
}
